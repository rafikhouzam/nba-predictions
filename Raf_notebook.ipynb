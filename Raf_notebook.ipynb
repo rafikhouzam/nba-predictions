{
 "cells": [
  {
   "cell_type": "markdown",
   "metadata": {},
   "source": [
    "Import all necessary packages"
   ]
  },
  {
   "cell_type": "code",
   "execution_count": 11,
   "metadata": {},
   "outputs": [],
   "source": [
    "import numpy as np ### numpy for array modifications\n",
    "import pandas as pd ### pandas for dataframe handling\n",
    "import seaborn as sns ### seaborn for data vis\n",
    "from sklearn.linear_model import LinearRegression ### regression model from skleanr\n",
    "\n",
    "from nba_api.stats.static import players ### all nba players -- not box score data, just player IDs\n",
    "from nba_api.stats.static import teams ### all nba teams -- not box score data, just teans IDs\n",
    "from nba_api.stats.endpoints import playergamelog ### player game stats\n",
    "from nba_api.stats.endpoints import leaguegamefinder ### team game stats\n",
    "from nba_api.stats.endpoints import teamgamelog ### team game logs\n",
    "from nba_api.stats.endpoints import teamvsplayer ### team to player"
   ]
  },
  {
   "cell_type": "markdown",
   "metadata": {},
   "source": [
    "Creating a dictionary of all players all time."
   ]
  },
  {
   "cell_type": "code",
   "execution_count": 12,
   "metadata": {},
   "outputs": [],
   "source": [
    "player_dict = players.get_players() "
   ]
  },
  {
   "cell_type": "markdown",
   "metadata": {},
   "source": [
    "Creating a dictionary of all active players."
   ]
  },
  {
   "cell_type": "code",
   "execution_count": 13,
   "metadata": {},
   "outputs": [],
   "source": [
    "active_player_dict = [player for player in player_dict if player['is_active'] ==  True]"
   ]
  },
  {
   "cell_type": "markdown",
   "metadata": {},
   "source": [
    "A function that finds the player id given the player name.\n",
    "\n",
    "The parameter player_name is a string.\n",
    "\n",
    "The output is the corresponding players's id as an int."
   ]
  },
  {
   "cell_type": "code",
   "execution_count": 14,
   "metadata": {},
   "outputs": [],
   "source": [
    "def player_id_finder(player_name):\n",
    "    for player in active_player_dict:\n",
    "        if player['full_name'] == player_name:\n",
    "            return player['id']"
   ]
  },
  {
   "cell_type": "markdown",
   "metadata": {},
   "source": [
    "The below creates a dictionary, pairing each team's abbreviation with the full team name."
   ]
  },
  {
   "cell_type": "code",
   "execution_count": 15,
   "metadata": {},
   "outputs": [],
   "source": [
    "x = ['ATL', 'BOS', 'BKN', 'CHA', 'CHI', 'CLE', 'DAL', 'DEN', 'DET', 'GSW', 'HOU', 'IND', 'LAC', 'LAL', 'MEM', 'MIA', 'MIL', 'MIN', 'NOP', 'NYK', 'OKC', 'ORL', 'PHI', 'PHX', 'POR', 'SAC', 'SAS', 'TOR', 'UTA', 'WAS']\n",
    "y = ['Atlanta Hawks','Boston Celtics','Brooklyn Nets','Charlotte Hornets','Chicago Bulls','Cleveland Cavaliers','Dallas Mavericks','Denver Nuggets','Detroit Pistons','Golden State Warriors','Houston Rockets','Indiana Pacers','Los Angeles Clippers','Los Angeles Lakers','Memphis Grizzlies','Miami Heat','Milwaukee Bucks','Minnesota Timberwolves','New Orleans Pelicans','New York Knicks','Oklahoma City Thunder','Orlando Magic','Philadelphia 76ers','Phoenix Suns','Portland Trail Blazers','Sacramento Kings','San Antonio Spurs','Toronto Raptors', 'Utah Jazz', 'Washington Wizards']\n",
    "team_name_dict = {k:v for k, v in zip(x,y)}"
   ]
  },
  {
   "cell_type": "markdown",
   "metadata": {},
   "source": [
    "Creating a dictionary of all teams."
   ]
  },
  {
   "cell_type": "code",
   "execution_count": 16,
   "metadata": {},
   "outputs": [],
   "source": [
    "team_dict = teams.get_teams()"
   ]
  },
  {
   "cell_type": "markdown",
   "metadata": {},
   "source": [
    "A function that finds the team id given the team name.\n",
    "\n",
    "The parameter team_name is a string.\n",
    "\n",
    "The output is the corresponding team's id as an int."
   ]
  },
  {
   "cell_type": "code",
   "execution_count": 17,
   "metadata": {},
   "outputs": [],
   "source": [
    "def team_id_finder(team_name):\n",
    "    for team in team_dict:\n",
    "        if team['full_name'] == team_name:\n",
    "            return team['id']"
   ]
  },
  {
   "cell_type": "markdown",
   "metadata": {},
   "source": [
    "A function that calculates a given teams offensive rating for all games played and average of all games.\n",
    "\n",
    "The parameters\n",
    "- season: str\n",
    "- season_type: str ('Regular Season', 'Playoffs')\n",
    "- team_name: str\n",
    "\n",
    "The Output\n",
    "- average offensive team rating for the season\n"
   ]
  },
  {
   "cell_type": "code",
   "execution_count": 18,
   "metadata": {},
   "outputs": [],
   "source": [
    "def avg_off_team_rating(season, season_type, team_name):\n",
    "    gamelogs = teamgamelog.TeamGameLog(season = season, season_type_all_star = season_type, team_id = team_id_finder(team_name)).get_data_frames()[0]\n",
    "    gamelogs.loc[:,'ORating'] = (gamelogs['PTS'])/(gamelogs['FGA'] - gamelogs['OREB'] + gamelogs['TOV'] + 0.4 * gamelogs['FTA']) * 100\n",
    "    return gamelogs['ORating'].mean()"
   ]
  },
  {
   "cell_type": "markdown",
   "metadata": {},
   "source": [
    "A function that calculatest the opponents offensive rating for each game the player has played in a season.\n",
    "\n",
    "The parameters\n",
    "- player_name: str\n",
    "- season: str\n",
    "- season_type: str ('Regular Season', 'Playoffs')\n",
    "\n",
    "The output:\n",
    "- a df with all the games a player played in a season along with the offensive rating of the opposing team that game and the season average offensive rating of that team \n",
    "\n",
    "This needs to be fixed. Makes too many API calls and causes runtime errors. Also the Opponent Offensive Rating is not a good predictor. But a good start to testing what works and doesn't."
   ]
  },
  {
   "cell_type": "code",
   "execution_count": 19,
   "metadata": {},
   "outputs": [],
   "source": [
    "def opp_avg_off_rating_df(player_name, season, season_type):\n",
    "    print('starting:')\n",
    "    player_gamelog = playergamelog.PlayerGameLog(player_id = str(player_id_finder(player_name)), season = season).get_data_frames()[0]\n",
    "    print('player gamelog accessed')\n",
    "    \n",
    "    unique_teams = player_gamelog['MATCHUP'].str[-3:].map(team_name_dict).unique()\n",
    "    print('Unique teams extracted:', len(unique_teams))\n",
    "                                                          \n",
    "    team_gamelogs ={}\n",
    "    k = 1\n",
    "    for team in unique_teams:\n",
    "        team_gamelogs[team] = avg_off_team_rating(season, season_type, team)\n",
    "        print('Team gamelogs retrieved:', k)\n",
    "        k += 1\n",
    "                                                          \n",
    "    i = 0\n",
    "    for opponent in player_gamelog['MATCHUP'].str[-3:]:\n",
    "        player_gamelog.loc[i, 'OppOffRating'] = team_gamelogs[team_name_dict[opponent]]\n",
    "        i += 1\n",
    "        \n",
    "    return sns.lmplot(data=player_gamelog, x='OppOffRating', y='PTS')\n",
    "                                                          \n",
    "    "
   ]
  },
  {
   "cell_type": "code",
   "execution_count": 20,
   "metadata": {
    "scrolled": true
   },
   "outputs": [],
   "source": [
    "#Opp_Off_Rating_Pts_Model = opp_avg_off_rating_df('LeBron James', '2022', 'Regular Season')"
   ]
  },
  {
   "cell_type": "markdown",
   "metadata": {},
   "source": [
    "A function that saves team data by season as a csv file.\n",
    "\n",
    "The parameters\n",
    "- seasons_list: list (of seasons in format [20xx-xx, 20xx-xx, ...]\n",
    "- season_type: str ('Regular Season', 'Playoffs')\n",
    "\n",
    "The Output\n",
    "- saves the dataframe created from the API call as a csv file (no output)"
   ]
  },
  {
   "cell_type": "code",
   "execution_count": 21,
   "metadata": {},
   "outputs": [],
   "source": [
    "def save_team_datasets(seasons_list, season_type):\n",
    "    for season in seasons_list:\n",
    "        print('loading season', season)\n",
    "        df = leaguegamefinder.LeagueGameFinder(season_nullable = season, league_id_nullable = '00', season_type_nullable = season_type).get_data_frames()[0]\n",
    "        filename = str(season) + 'teams.csv'\n",
    "        df.to_csv(filename, index=False)\n",
    "        print('Successully saved', filename)"
   ]
  },
  {
   "cell_type": "code",
   "execution_count": 22,
   "metadata": {},
   "outputs": [],
   "source": [
    "def save_player_datasets(seasons_list, season_type):\n",
    "    for season in seasons_list:\n",
    "        print('loading season', season)\n",
    "        df = leaguegamefinder.LeagueGameFinder(player_or_team_abbreviation='P' ,season_nullable = season, league_id_nullable = '00', season_type_nullable = season_type).get_data_frames()[0]\n",
    "        filename = str(season) + 'players.csv'\n",
    "        df.to_csv(filename, index=False)\n",
    "        print('Successully saved', filename)"
   ]
  },
  {
   "cell_type": "code",
   "execution_count": 23,
   "metadata": {},
   "outputs": [
    {
     "name": "stdout",
     "output_type": "stream",
     "text": [
      "loading season 2018-19\n",
      "Successully saved 2018-19teams.csv\n",
      "loading season 2019-20\n",
      "Successully saved 2019-20teams.csv\n",
      "loading season 2020-21\n",
      "Successully saved 2020-21teams.csv\n",
      "loading season 2021-22\n",
      "Successully saved 2021-22teams.csv\n",
      "loading season 2022-23\n",
      "Successully saved 2022-23teams.csv\n"
     ]
    }
   ],
   "source": [
    "seasons_list = ['2018-19', '2019-20', '2020-21', '2021-22', '2022-23']\n",
    "\n",
    "save_team_datasets(seasons_list, 'Regular Season')"
   ]
  },
  {
   "cell_type": "code",
   "execution_count": 24,
   "metadata": {
    "scrolled": true
   },
   "outputs": [
    {
     "name": "stdout",
     "output_type": "stream",
     "text": [
      "loading season 2018-19\n",
      "Successully saved 2018-19players.csv\n",
      "loading season 2019-20\n",
      "Successully saved 2019-20players.csv\n",
      "loading season 2020-21\n",
      "Successully saved 2020-21players.csv\n",
      "loading season 2021-22\n",
      "Successully saved 2021-22players.csv\n",
      "loading season 2022-23\n",
      "Successully saved 2022-23players.csv\n"
     ]
    }
   ],
   "source": [
    "save_player_datasets(seasons_list, 'Regular Season')"
   ]
  },
  {
   "cell_type": "code",
   "execution_count": 25,
   "metadata": {},
   "outputs": [],
   "source": [
    "players_2023 = pd.read_csv('2022-23players.csv')"
   ]
  },
  {
   "cell_type": "code",
   "execution_count": 26,
   "metadata": {},
   "outputs": [],
   "source": [
    "teams_2023 = pd.read_csv('2022-23teams.csv')"
   ]
  },
  {
   "cell_type": "code",
   "execution_count": 27,
   "metadata": {},
   "outputs": [],
   "source": [
    "def stl_tov_trends(team_name, teams_df):\n",
    "\n",
    "    #retrieve the stats from the teams in all the games the team played in\n",
    "    team_games = teams_df[teams_df['TEAM_NAME']==team_name]\n",
    "    team_game_ids = list(team_games['GAME_ID'])\n",
    "    opp_team_games = teams_df[teams_df['GAME_ID'].isin(team_game_ids)]\n",
    "    opp_team_tovs = opp_team_games[opp_team_games['TEAM_ID'] != team_id_finder(team_name)]\n",
    "    \n",
    "    #retrieve turnovers and steals\n",
    "    \n",
    "    opp_tovs = np.array(opp_team_tovs['TOV'])\n",
    "    \n",
    "                                       \n",
    "    #create a dictionary mapping the game ids to the def ratings.\n",
    "    id_tov_stl_dict = {k:v for k,v in zip(team_game_ids, opp_tovs)}\n",
    "\n",
    "    #map the opponent defensive rating onto player_df\n",
    "    team_games.loc[:, 'opp_tovs'] = team_games['GAME_ID'].map(id_tov_stl_dict)\n",
    "\n",
    "    #plot regression lines and find basic stats.\n",
    "    x = np.array(team_games['opp_tovs']).reshape(-1, 1)\n",
    "    y = np.array(team_games['STL'])\n",
    "    \n",
    "    sns.lmplot(data=team_games, x='opp_tovs', y='STL')\n",
    "    stls_model = LinearRegression().fit(x, y)\n",
    "    print('R-squared for pts:', stls_model.score(x,y))"
   ]
  },
  {
   "cell_type": "code",
   "execution_count": 28,
   "metadata": {},
   "outputs": [
    {
     "name": "stdout",
     "output_type": "stream",
     "text": [
      "R-squared for pts: 0.5397955313807437\n"
     ]
    },
    {
     "name": "stderr",
     "output_type": "stream",
     "text": [
      "/var/folders/t_/6pr35fg96s7cpgmqrdcyy3p40000gq/T/ipykernel_11009/965023398.py:18: SettingWithCopyWarning: \n",
      "A value is trying to be set on a copy of a slice from a DataFrame.\n",
      "Try using .loc[row_indexer,col_indexer] = value instead\n",
      "\n",
      "See the caveats in the documentation: https://pandas.pydata.org/pandas-docs/stable/user_guide/indexing.html#returning-a-view-versus-a-copy\n",
      "  team_games.loc[:, 'opp_tovs'] = team_games['GAME_ID'].map(id_tov_stl_dict)\n"
     ]
    },
    {
     "data": {
      "image/png": "[encoded data removed]",
      "text/plain": [
       "<Figure size 500x500 with 1 Axes>"
      ]
     },
     "metadata": {},
     "output_type": "display_data"
    }
   ],
   "source": [
    "stl_tov_trends('Orlando Magic', teams_2023)"
   ]
  },
  {
   "cell_type": "code",
   "execution_count": 29,
   "metadata": {},
   "outputs": [],
   "source": [
    "def points_to_tovs(team, teams_df):\n",
    "    \n",
    "    team_df = teams_2023[teams_df['TEAM_NAME'] == team]\n",
    "    \n",
    "    x = np.array(teams_df['REB']).reshape(-1,1)\n",
    "    y = np.array(teams_df['PTS'])\n",
    "    \n",
    "    sns.lmplot(data=team_df, x='REB', y='PTS')\n",
    "    model = LinearRegression().fit(x,y)\n",
    "    print('R-squared for Model:', model.score(x,y))"
   ]
  },
  {
   "cell_type": "code",
   "execution_count": 30,
   "metadata": {},
   "outputs": [],
   "source": [
    "def steals_to_tovs(team, teams_df):\n",
    "    \n",
    "    team_df = teams_2023[teams_df['TEAM_NAME'] == team]\n",
    "    \n",
    "    x = np.array(teams_df['REB']).reshape(-1,1)\n",
    "    y = np.array(teams_df['PTS'])\n",
    "    \n",
    "    sns.lmplot(data=team_df, x='REB', y='PTS')\n",
    "    model = LinearRegression().fit(x,y)\n",
    "    print('R-squared for Model:', model.score(x,y))"
   ]
  },
  {
   "cell_type": "code",
   "execution_count": 31,
   "metadata": {},
   "outputs": [],
   "source": [
    "def player_points_prediction_model(player_name, players_df, teams_df):\n",
    "    #create player_df from players_df\n",
    "    player_df = players_df[players_df['PLAYER_NAME'] == player_name].copy()\n",
    "    \n",
    "    #extract player game IDs\n",
    "    player_game_ids = list(player_df['GAME_ID'])\n",
    "    \n",
    "    #extract team (opponent and team that player is on) data from games that player played in\n",
    "    player_games = teams_df[teams_df['GAME_ID'].isin(player_game_ids)].copy()\n",
    "    \n",
    "    #extract team IDs of all the teams that the player was on during the season\n",
    "    player_team_ids = set(list(player_df['TEAM_ID']))\n",
    "    \n",
    "    #create df of stats from the teams that the player played on only (not opposing teams' data)\n",
    "    player_team_games = player_games[player_games['TEAM_ID'].isin(player_team_ids)].copy()\n",
    "    \n",
    "    #ex\n",
    "    \n",
    "    #extract team fga from player_team_games\n",
    "    team_fga = list(player_team_games['FGA'])\n",
    "    \n",
    "    #create a dictionary linking player_game_ids to team FGA\n",
    "    game_id_team_fga_dict = {k:v for k,v in zip(player_game_ids, team_fga)}\n",
    "    \n",
    "    #map team_fga to player_df\n",
    "    player_df.loc[:, 'team_fga'] = player_df['GAME_ID'].map(game_id_team_fga_dict)\n",
    "    \n",
    "    #calculate the percentage of the teams field goal attempts a player takes (FACTOR 1)\n",
    "    player_df.loc[:, 'playerFGA%'] = player_df['FGA']/player_df['team_fga']\n",
    "    \n",
    "    #calculate the players eFG% (FACTOR 2)\n",
    "    player_FGM = np.array(player_df['FGM'])\n",
    "    player_ThreePM = np.array(player_df['FG3M'])\n",
    "    player_FGA = np.array(player_df['FGA'])\n",
    "    \n",
    "    player_df.loc[:, 'eFG%'] = (player_FGM + (0.5 * player_ThreePM))/player_FGA\n",
    "    \n",
    "    #define the variables\n",
    "    x = player_df[['playerFGA%', 'eFG%', 'FTA', 'FT_PCT']].fillna(0)\n",
    "    y = player_df['PTS']\n",
    "    \n",
    "    model = LinearRegression().fit(x,y)\n",
    "    \n",
    "    return model"
   ]
  },
  {
   "cell_type": "code",
   "execution_count": 32,
   "metadata": {},
   "outputs": [],
   "source": [
    "bron_points_model = player_points_prediction_model('LeBron James', players_2023, teams_2023)"
   ]
  },
  {
   "cell_type": "code",
   "execution_count": 33,
   "metadata": {},
   "outputs": [
    {
     "name": "stderr",
     "output_type": "stream",
     "text": [
      "/Users/rafirafi/Desktop/git-repos/nba-sports-betting-predictor-1/nba-predictions/lib/python3.11/site-packages/sklearn/base.py:439: UserWarning: X does not have valid feature names, but LinearRegression was fitted with feature names\n",
      "  warnings.warn(\n"
     ]
    },
    {
     "data": {
      "text/plain": [
       "array([27.64282324])"
      ]
     },
     "execution_count": 33,
     "metadata": {},
     "output_type": "execute_result"
    }
   ],
   "source": [
    "bron_points_model.predict([[0.20, 0.65, 5, 0.70]])"
   ]
  },
  {
   "cell_type": "code",
   "execution_count": 34,
   "metadata": {},
   "outputs": [],
   "source": [
    "def player_points_prediction_test_data(player_name, players_df, teams_df):\n",
    "    #create player_df from players_df\n",
    "    player_df = players_df[players_df['PLAYER_NAME'] == player_name].copy()\n",
    "    \n",
    "    #extract player game IDs\n",
    "    player_game_ids = list(player_df['GAME_ID'])\n",
    "    \n",
    "    #extract team (opponent and team that player is on) data from games that player played in\n",
    "    player_games = teams_df[teams_df['GAME_ID'].isin(player_game_ids)].copy()\n",
    "    \n",
    "    #extract team IDs of all the teams that the player was on during the season\n",
    "    player_team_ids = set(list(player_df['TEAM_ID']))\n",
    "    \n",
    "    #create df of stats from the teams that the player played on only (not opposing teams' data)\n",
    "    player_team_games = player_games[player_games['TEAM_ID'].isin(player_team_ids)].copy()\n",
    "    \n",
    "    #extract team fga from player_team_games\n",
    "    team_fga = list(player_team_games['FGA'])\n",
    "    \n",
    "    #create a dictionary linking player_game_ids to team FGA\n",
    "    game_id_team_fga_dict = {k:v for k,v in zip(player_game_ids, team_fga)}\n",
    "    \n",
    "    #map team_fga to player_df\n",
    "    player_df.loc[:, 'team_fga'] = player_df['GAME_ID'].map(game_id_team_fga_dict)\n",
    "    \n",
    "    #calculate the percentage of the teams field goal attempts a player takes (FACTOR 1)\n",
    "    player_df.loc[:, 'playerFGA%'] = player_df['FGA']/player_df['team_fga']\n",
    "    \n",
    "    #calculate the players eFG% (FACTOR 2)\n",
    "    player_FGM = np.array(player_df['FGM'])\n",
    "    player_ThreePM = np.array(player_df['FG3M'])\n",
    "    player_FGA = np.array(player_df['FGA'])\n",
    "    \n",
    "    player_df.loc[:, 'eFG%'] = (player_FGM + (0.5 * player_ThreePM))/player_FGA\n",
    "    \n",
    "    return player_df"
   ]
  },
  {
   "cell_type": "code",
   "execution_count": 35,
   "metadata": {},
   "outputs": [],
   "source": [
    "def test_prediction_model(player_name, playersRegular_df, teamsRegular_df, playersPlayoff_df, teamsPlayoff_df, prediction_model, test_data):\n",
    "    # create model\n",
    "    model = prediction_model(player_name, playersRegular_df, teamsRegular_df)\n",
    "    \n",
    "    # extract playoff test data\n",
    "    test_df = test_data(player_name, playersPlayoff_df, teamsPlayoff_df)\n",
    "    \n",
    "    # collect x and y test data. \n",
    "    # X is the data that we feed into the model. \n",
    "    # Y is the actual outcome to compare against the predicted values.\n",
    "    x_test = test_df[['playerFGA%', 'eFG%', 'FTA', 'FT_PCT']].fillna(0)\n",
    "    y_test = np.array(test_df['PTS'])\n",
    "    \n",
    "    # Generate the predictions.\n",
    "    y_pred = model.predict(x_test)\n",
    "    \n",
    "    # Create a graph to visualize the results\n",
    "    plt.scatter(y_test, y_pred)\n",
    "    plt.plot([y_test.min(), y_test.max()], [y_test.min(), y_test.max()], 'k--', lw=2)\n",
    "    plt.xlabel('Actual Points scored by' + player_name)\n",
    "    plt.ylabel('Predicted Points scored by' +  player_name)\n",
    "    plt.show()\n",
    "    \n",
    "    #Calculate the Mean Squared Error (MSE)\n",
    "    mse = mean_squared_error(y_test, y_pred)\n",
    "    print('Mean Squared Error:', mse)\n",
    "    \n",
    "    #Calculate the R-Squared\n",
    "    r2 = r2_score(y_test, y_pred)\n",
    "    print('R-squared:', r2)"
   ]
  },
  {
   "cell_type": "code",
   "execution_count": 36,
   "metadata": {},
   "outputs": [
    {
     "ename": "NameError",
     "evalue": "name 'players_2023_playoffs' is not defined",
     "output_type": "error",
     "traceback": [
      "\u001b[0;31m---------------------------------------------------------------------------\u001b[0m",
      "\u001b[0;31mNameError\u001b[0m                                 Traceback (most recent call last)",
      "Cell \u001b[0;32mIn[36], line 1\u001b[0m\n\u001b[0;32m----> 1\u001b[0m test_prediction_model(\u001b[38;5;124m'\u001b[39m\u001b[38;5;124mLeBron James\u001b[39m\u001b[38;5;124m'\u001b[39m, players_2023, teams_2023, \u001b[43mplayers_2023_playoffs\u001b[49m, teams_2023_playoffs, player_points_prediction_model, player_points_prediction_test_data)\n",
      "\u001b[0;31mNameError\u001b[0m: name 'players_2023_playoffs' is not defined"
     ]
    }
   ],
   "source": [
    "test_prediction_model('LeBron James', players_2023, teams_2023, players_2023_playoffs, teams_2023_playoffs, player_points_prediction_model, player_points_prediction_test_data)"
   ]
  },
  {
   "cell_type": "code",
   "execution_count": null,
   "metadata": {},
   "outputs": [],
   "source": []
  }
 ],
 "metadata": {
  "kernelspec": {
   "display_name": "nba-predictions",
   "language": "python",
   "name": "nba-predictions"
  },
  "language_info": {
   "codemirror_mode": {
    "name": "ipython",
    "version": 3
   },
   "file_extension": ".py",
   "mimetype": "text/x-python",
   "name": "python",
   "nbconvert_exporter": "python",
   "pygments_lexer": "ipython3",
   "version": "3.11.1"
  }
 },
 "nbformat": 4,
 "nbformat_minor": 4
}
